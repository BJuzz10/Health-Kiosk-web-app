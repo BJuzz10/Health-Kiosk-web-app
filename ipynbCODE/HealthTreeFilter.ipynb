{
 "cells": [
  {
   "cell_type": "code",
   "execution_count": 1,
   "id": "ec144679-17a1-4ca9-9be2-1a9e83908936",
   "metadata": {},
   "outputs": [
    {
     "name": "stdout",
     "output_type": "stream",
     "text": [
      "2025-04-03 16:07:03.319799\n"
     ]
    }
   ],
   "source": [
    "import pandas as pd \n",
    "from datetime import datetime\n",
    "print(datetime.now()) #test if nagana datetime lib"
   ]
  },
  {
   "cell_type": "code",
   "execution_count": 2,
   "id": "69d3ed95-d3d3-4b99-bc5d-6c3f62274ba9",
   "metadata": {},
   "outputs": [],
   "source": [
    "df = pd.read_excel('DataRecord_1739555261437.xlsx') #pip install openpyxl, "
   ]
  },
  {
   "cell_type": "code",
   "execution_count": 3,
   "id": "aa6839ba-5661-4373-abe9-2b06dc3a6621",
   "metadata": {},
   "outputs": [],
   "source": [
    "#df.to_csv('PulseOxi.csv',index=False) #converts xlsx into csv"
   ]
  },
  {
   "cell_type": "code",
   "execution_count": 4,
   "id": "b9ca9347-0908-4bbe-89e7-a88883a4b705",
   "metadata": {},
   "outputs": [
    {
     "name": "stdout",
     "output_type": "stream",
     "text": [
      "Index(['ID', 'Time', 'SPO2(%)', 'PR(bpm)'], dtype='object')\n"
     ]
    }
   ],
   "source": [
    "print(df.columns)"
   ]
  },
  {
   "cell_type": "code",
   "execution_count": 5,
   "id": "96d682ae-16ea-4f86-b818-cf4e779b7049",
   "metadata": {},
   "outputs": [
    {
     "name": "stdout",
     "output_type": "stream",
     "text": [
      "   ID                 Time  SPO2(%)  PR(bpm)\n",
      "0   1  2025-02-02 17:22:28       97       92\n",
      "1   2  2025-02-02 17:21:58       97       97\n",
      "2   3  2025-02-02 17:21:28       97       92\n",
      "3   4  2025-02-02 17:20:58       97       86\n",
      "4   5  2025-02-02 17:20:28       97       96\n"
     ]
    }
   ],
   "source": [
    "print(pd.DataFrame(df))"
   ]
  },
  {
   "cell_type": "code",
   "execution_count": 6,
   "id": "8f2dae7b-0411-44ae-8fca-f41435ab8215",
   "metadata": {},
   "outputs": [
    {
     "name": "stdout",
     "output_type": "stream",
     "text": [
      "0    2025-02-02 17:22:28\n",
      "1    2025-02-02 17:21:58\n",
      "2    2025-02-02 17:21:28\n",
      "3    2025-02-02 17:20:58\n",
      "4    2025-02-02 17:20:28\n",
      "Name: Time, dtype: object\n"
     ]
    }
   ],
   "source": [
    "print(df['Time'])"
   ]
  },
  {
   "cell_type": "code",
   "execution_count": 7,
   "id": "5d27069f-1daf-4de7-837d-30f381888753",
   "metadata": {},
   "outputs": [
    {
     "name": "stdout",
     "output_type": "stream",
     "text": [
      "0   2025-02-02 17:22:28\n",
      "1   2025-02-02 17:21:58\n",
      "2   2025-02-02 17:21:28\n",
      "3   2025-02-02 17:20:58\n",
      "4   2025-02-02 17:20:28\n",
      "Name: Time, dtype: datetime64[ns]\n"
     ]
    }
   ],
   "source": [
    "#convert Time's dtype from object to datetime\n",
    "df['Time'] = pd.to_datetime(df['Time']) \n",
    "print(df['Time'])"
   ]
  },
  {
   "cell_type": "code",
   "execution_count": 8,
   "id": "f02c4ec9-abd2-4dfb-bf45-8de6e14b4c67",
   "metadata": {},
   "outputs": [
    {
     "name": "stdin",
     "output_type": "stream",
     "text": [
      "Enter Year:  2025\n",
      "Enter month:  3\n",
      "Enter day:  4\n",
      "Enter hour:  16\n",
      "Enter minute:  7\n"
     ]
    },
    {
     "name": "stdout",
     "output_type": "stream",
     "text": [
      "2025-03-04 16:07:00\n"
     ]
    }
   ],
   "source": [
    "#Assume that this section is log in logic\n",
    "year = int(input(\"Enter Year: \"))\n",
    "month = int(input(\"Enter month: \"))\n",
    "day = int(input(\"Enter day: \"))\n",
    "hr = int(input(\"Enter hour: \"))\n",
    "minute = int(input(\"Enter minute: \"))\n",
    "\n",
    "custom_dt = datetime(year, month, day, hr, minute) #datetime(2025, 3, 29, 14, 30, 0)\n",
    "print(custom_dt)"
   ]
  },
  {
   "cell_type": "code",
   "execution_count": 9,
   "id": "9fc528d0-7f0e-4d4c-9c9b-21f389dc5405",
   "metadata": {},
   "outputs": [],
   "source": [
    "filtered_df = df[df['Time'] >= custom_dt]"
   ]
  },
  {
   "cell_type": "code",
   "execution_count": 10,
   "id": "6b44d4fa-07b7-4ce8-9fbe-0c69a248d3aa",
   "metadata": {},
   "outputs": [
    {
     "name": "stdout",
     "output_type": "stream",
     "text": [
      "Empty DataFrame\n",
      "Columns: [ID, Time, SPO2(%), PR(bpm)]\n",
      "Index: []\n"
     ]
    }
   ],
   "source": [
    "print(pd.DataFrame(filtered_df))"
   ]
  },
  {
   "cell_type": "code",
   "execution_count": 11,
   "id": "3cfa77eb-731c-4c80-959b-7574da48f72b",
   "metadata": {},
   "outputs": [],
   "source": [
    "filtered_df.to_csv(\"outputpulse.csv\", index=False)"
   ]
  },
  {
   "cell_type": "code",
   "execution_count": null,
   "id": "f6e92ea1-0f32-499e-b26f-99e681bba7fd",
   "metadata": {},
   "outputs": [],
   "source": []
  }
 ],
 "metadata": {
  "kernelspec": {
   "display_name": "Python 3 (ipykernel)",
   "language": "python",
   "name": "python3"
  },
  "language_info": {
   "codemirror_mode": {
    "name": "ipython",
    "version": 3
   },
   "file_extension": ".py",
   "mimetype": "text/x-python",
   "name": "python",
   "nbconvert_exporter": "python",
   "pygments_lexer": "ipython3",
   "version": "3.12.8"
  }
 },
 "nbformat": 4,
 "nbformat_minor": 5
}
