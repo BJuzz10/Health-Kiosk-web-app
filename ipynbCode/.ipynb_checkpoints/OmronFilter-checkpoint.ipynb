{
 "cells": [
  {
   "cell_type": "code",
   "execution_count": 1,
   "id": "5f7f995c-db2f-41d9-8ea5-1e7753b2b3a2",
   "metadata": {},
   "outputs": [
    {
     "name": "stdout",
     "output_type": "stream",
     "text": [
      "2025-03-29 20:40:28.930084\n"
     ]
    }
   ],
   "source": [
    "import pandas as pd\n",
    "from datetime import datetime \n",
    "time = datetime.now()\n",
    "print(time) #test if nagana datetime libr"
   ]
  },
  {
   "cell_type": "code",
   "execution_count": 2,
   "id": "6a0f48b9-9ebe-4d5f-8e11-da49f35c49c3",
   "metadata": {},
   "outputs": [],
   "source": [
    "df = pd.read_csv('[OMRON] Measurement Data.csv')\n",
    "datafram = pd.DataFrame(df)"
   ]
  },
  {
   "cell_type": "code",
   "execution_count": 3,
   "id": "4658a450-530e-497f-8d48-b4be53518b7b",
   "metadata": {},
   "outputs": [
    {
     "name": "stdout",
     "output_type": "stream",
     "text": [
      "Index(['Measurement Date', 'Timezone', 'SYS(mmHg)', 'DIA(mmHg)', 'Pulse(bpm)',\n",
      "       'Irregular heartbeat detected', 'IHB detection counts(times)',\n",
      "       'Body Movement', 'Cuff wrap guide', 'Positioning Indicator',\n",
      "       'room temperature(°C)', 'Measurement Mode', 'Device'],\n",
      "      dtype='object')\n"
     ]
    }
   ],
   "source": [
    "print(df.columns)"
   ]
  },
  {
   "cell_type": "code",
   "execution_count": 4,
   "id": "c5a35d60-42ee-481c-80b0-708b3665d36f",
   "metadata": {},
   "outputs": [
    {
     "name": "stdout",
     "output_type": "stream",
     "text": [
      "   Measurement Date     Timezone  SYS(mmHg)  DIA(mmHg)  Pulse(bpm)  \\\n",
      "0  2025/02/03 10:43  Asia/Manila        130         81          73   \n",
      "1  2025/02/03 10:52  Asia/Manila        127         78          79   \n",
      "2  2025/02/03 12:01  Asia/Manila        114         85          75   \n",
      "3  2025/02/07 15:31  Asia/Manila        140         88          70   \n",
      "4  2025/02/07 15:32  Asia/Manila        129         88          70   \n",
      "5  2025/02/14 03:59  Asia/Manila        146         89          81   \n",
      "6  2025/02/15 09:29  Asia/Manila        130         82          69   \n",
      "7  2025/02/15 09:31  Asia/Manila        131         90          68   \n",
      "\n",
      "  Irregular heartbeat detected  IHB detection counts(times) Body Movement  \\\n",
      "0                 Not Detected                          NaN  Not Detected   \n",
      "1                 Not Detected                          NaN  Not Detected   \n",
      "2                 Not Detected                          NaN  Not Detected   \n",
      "3                 Not Detected                          NaN  Not Detected   \n",
      "4                 Not Detected                          NaN      Detected   \n",
      "5                 Not Detected                          NaN  Not Detected   \n",
      "6                 Not Detected                          NaN  Not Detected   \n",
      "7                 Not Detected                          NaN  Not Detected   \n",
      "\n",
      "  Cuff wrap guide  Positioning Indicator  room temperature(°C)  \\\n",
      "0              OK                    NaN                   NaN   \n",
      "1              OK                    NaN                   NaN   \n",
      "2              OK                    NaN                   NaN   \n",
      "3              OK                    NaN                   NaN   \n",
      "4              OK                    NaN                   NaN   \n",
      "5              OK                    NaN                   NaN   \n",
      "6              OK                    NaN                   NaN   \n",
      "7              OK                    NaN                   NaN   \n",
      "\n",
      "   Measurement Mode     Device  \n",
      "0               NaN  HEM-7600T  \n",
      "1               NaN  HEM-7600T  \n",
      "2               NaN  HEM-7600T  \n",
      "3               NaN  HEM-7600T  \n",
      "4               NaN  HEM-7600T  \n",
      "5               NaN  HEM-7600T  \n",
      "6               NaN  HEM-7600T  \n",
      "7               NaN  HEM-7600T  \n"
     ]
    }
   ],
   "source": [
    "print(datafram)"
   ]
  },
  {
   "cell_type": "code",
   "execution_count": 5,
   "id": "ea5889e8-6f24-46cd-9146-04efe5bd4c6d",
   "metadata": {},
   "outputs": [],
   "source": [
    "# Convert 'Measurement Date' to datetime format (adjust column name as needed)\n",
    "df['Measurement Date'] = pd.to_datetime(df['Measurement Date'])"
   ]
  },
  {
   "cell_type": "code",
   "execution_count": 6,
   "id": "de5dc1ca-d6d2-4b35-824c-09764358b13a",
   "metadata": {},
   "outputs": [
    {
     "name": "stdout",
     "output_type": "stream",
     "text": [
      "0   2025-02-03 10:43:00\n",
      "1   2025-02-03 10:52:00\n",
      "2   2025-02-03 12:01:00\n",
      "3   2025-02-07 15:31:00\n",
      "4   2025-02-07 15:32:00\n",
      "5   2025-02-14 03:59:00\n",
      "6   2025-02-15 09:29:00\n",
      "7   2025-02-15 09:31:00\n",
      "Name: Measurement Date, dtype: datetime64[ns]\n"
     ]
    }
   ],
   "source": [
    "print(df['Measurement Date'])"
   ]
  },
  {
   "cell_type": "code",
   "execution_count": 14,
   "id": "f453b813-0eeb-4588-8ba7-d0fd231bf7a5",
   "metadata": {},
   "outputs": [
    {
     "name": "stdin",
     "output_type": "stream",
     "text": [
      "Enter Year:  2025\n",
      "Enter month:  2\n",
      "Enter day:  15\n",
      "Enter hour:  9\n",
      "Enter minute:  31\n"
     ]
    }
   ],
   "source": [
    "#Assume that this is the input of time of log in \n",
    "year = int(input(\"Enter Year: \"))\n",
    "month = int(input(\"Enter month: \"))\n",
    "day = int(input(\"Enter day: \"))\n",
    "hr = int(input(\"Enter hour: \"))\n",
    "minute = int(input(\"Enter minute: \"))"
   ]
  },
  {
   "cell_type": "code",
   "execution_count": 15,
   "id": "e1099024-e8e3-44e1-a220-d686e903b316",
   "metadata": {},
   "outputs": [
    {
     "name": "stdout",
     "output_type": "stream",
     "text": [
      "2025-02-15 09:31:00\n"
     ]
    }
   ],
   "source": [
    "custom_dt = datetime(year, month, day, hr, minute) #datetime(2025, 3, 29, 14, 30, 0)\n",
    "print(custom_dt)  # Output: 2025-03-29 14:30:00"
   ]
  },
  {
   "cell_type": "code",
   "execution_count": 16,
   "id": "9fea9f1f-54e2-400c-b47f-590abe1bd36a",
   "metadata": {},
   "outputs": [],
   "source": [
    "filtered_df = df[df['Measurement Date'] >= custom_dt]"
   ]
  },
  {
   "cell_type": "code",
   "execution_count": 17,
   "id": "236b78c2-93a5-40d5-886a-9d2d60434c18",
   "metadata": {},
   "outputs": [
    {
     "name": "stdout",
     "output_type": "stream",
     "text": [
      "     Measurement Date     Timezone  SYS(mmHg)  DIA(mmHg)  Pulse(bpm)  \\\n",
      "7 2025-02-15 09:31:00  Asia/Manila        131         90          68   \n",
      "\n",
      "  Irregular heartbeat detected  IHB detection counts(times) Body Movement  \\\n",
      "7                 Not Detected                          NaN  Not Detected   \n",
      "\n",
      "  Cuff wrap guide  Positioning Indicator  room temperature(°C)  \\\n",
      "7              OK                    NaN                   NaN   \n",
      "\n",
      "   Measurement Mode     Device  \n",
      "7               NaN  HEM-7600T  \n"
     ]
    }
   ],
   "source": [
    "print(filtered_df)"
   ]
  },
  {
   "cell_type": "code",
   "execution_count": 18,
   "id": "550f571f-bc14-4945-be8b-d6935864914f",
   "metadata": {},
   "outputs": [
    {
     "name": "stdout",
     "output_type": "stream",
     "text": [
      "     Measurement Date  SYS(mmHg)  DIA(mmHg)\n",
      "7 2025-02-15 09:31:00        131         90\n"
     ]
    }
   ],
   "source": [
    "fildf = filtered_df[['Measurement Date','SYS(mmHg)','DIA(mmHg)']]\n",
    "print(pd.DataFrame(fildf))"
   ]
  },
  {
   "cell_type": "code",
   "execution_count": 19,
   "id": "96d67f59-7924-428a-b0cb-4cb83e7fb3b5",
   "metadata": {},
   "outputs": [],
   "source": [
    "fildf.to_csv(\"output2.csv\", index=False) #filtered_df.to_csv(\"output2.csv\", index=False)"
   ]
  },
  {
   "cell_type": "code",
   "execution_count": 20,
   "id": "5f8b59ce-ffed-4c7f-90f0-f80f6434db62",
   "metadata": {},
   "outputs": [
    {
     "name": "stdout",
     "output_type": "stream",
     "text": [
      "Index(['Measurement Date', 'SYS(mmHg)', 'DIA(mmHg)'], dtype='object')\n"
     ]
    }
   ],
   "source": [
    "print(fildf.columns)"
   ]
  },
  {
   "cell_type": "code",
   "execution_count": null,
   "id": "507baa0c-d734-4bcd-9d20-111ae7752a24",
   "metadata": {},
   "outputs": [],
   "source": []
  }
 ],
 "metadata": {
  "kernelspec": {
   "display_name": "Python 3 (ipykernel)",
   "language": "python",
   "name": "python3"
  },
  "language_info": {
   "codemirror_mode": {
    "name": "ipython",
    "version": 3
   },
   "file_extension": ".py",
   "mimetype": "text/x-python",
   "name": "python",
   "nbconvert_exporter": "python",
   "pygments_lexer": "ipython3",
   "version": "3.12.8"
  }
 },
 "nbformat": 4,
 "nbformat_minor": 5
}
