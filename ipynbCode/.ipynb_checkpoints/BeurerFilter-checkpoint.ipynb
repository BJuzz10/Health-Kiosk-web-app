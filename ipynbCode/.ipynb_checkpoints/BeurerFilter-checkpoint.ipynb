{
 "cells": [
  {
   "cell_type": "code",
   "execution_count": 27,
   "id": "5e3201b1-2bbd-496c-b47a-f7b92ec6f1c3",
   "metadata": {},
   "outputs": [],
   "source": [
    "import pandas as pd\n",
    "from datetime import date, time, datetime"
   ]
  },
  {
   "cell_type": "code",
   "execution_count": 28,
   "id": "20c62743-dcda-4832-bb3a-b15bb603b376",
   "metadata": {},
   "outputs": [],
   "source": [
    "df = pd.read_csv('HealthManagerPro_Export_20180101_20250312.csv', header=None) "
   ]
  },
  {
   "cell_type": "code",
   "execution_count": 29,
   "id": "ca103fd4-b7d7-4c88-95a1-60c0fbe798df",
   "metadata": {},
   "outputs": [],
   "source": [
    "#df.info()"
   ]
  },
  {
   "cell_type": "code",
   "execution_count": 30,
   "id": "0a7ef76a-a8a5-40eb-85e9-24ea4c245402",
   "metadata": {},
   "outputs": [],
   "source": [
    "#df.tail(6)"
   ]
  },
  {
   "cell_type": "code",
   "execution_count": 31,
   "id": "71fff94d-cee8-48b0-bff0-67206342ff09",
   "metadata": {},
   "outputs": [],
   "source": [
    "# Split the 'User details' column by semicolons\n",
    "split_data = df[0].str.split(';', expand=True)"
   ]
  },
  {
   "cell_type": "code",
   "execution_count": 32,
   "id": "fd009dc6-3041-4b0b-a05f-16995004939c",
   "metadata": {},
   "outputs": [],
   "source": [
    "# Check how many columns are created\n",
    "#print(split_data.tail())"
   ]
  },
  {
   "cell_type": "code",
   "execution_count": 33,
   "id": "e5665cf7-2727-4dc6-9d5f-c65106d8ce95",
   "metadata": {},
   "outputs": [],
   "source": [
    "# If there are more columns than expected, you can handle them, for example:\n",
    "# Assuming we expect 3 columns (Date, Time, Temperature), but if there are more, we only take the first 3 columns.\n",
    "split_data = split_data.iloc[:, :3]\n",
    "\n",
    "# Assign the columns to the DataFrame\n",
    "split_data.columns = ['Date', 'Time', 'Temperature']\n",
    "\n",
    "# Drop the original combined column\n",
    "df.drop(columns=[0], inplace=True)"
   ]
  },
  {
   "cell_type": "code",
   "execution_count": 34,
   "id": "317293b3-afb6-4d22-be98-2ba4ee0b82cd",
   "metadata": {},
   "outputs": [],
   "source": [
    "# Concatenate the split data with the original DataFrame (if you need other columns)\n",
    "df = pd.concat([df, split_data], axis=1)\n",
    "\n",
    "# Save the new DataFrame to a new CSV file\n",
    "#df.to_csv('split_data.csv', index=False)"
   ]
  },
  {
   "cell_type": "code",
   "execution_count": 35,
   "id": "f4b64323-e2e5-491c-92d1-97cbb6e21a2f",
   "metadata": {},
   "outputs": [],
   "source": [
    "# Check the result\n",
    "#pd.DataFrame(df)"
   ]
  },
  {
   "cell_type": "code",
   "execution_count": 36,
   "id": "851c21e1-e339-4340-9afa-07a04648f376",
   "metadata": {},
   "outputs": [],
   "source": [
    "#df.info() #explains the data"
   ]
  },
  {
   "cell_type": "code",
   "execution_count": 37,
   "id": "bd730da8-1237-41f6-8b1b-fb34ed6d5cf6",
   "metadata": {},
   "outputs": [],
   "source": [
    "#print(df.columns)"
   ]
  },
  {
   "cell_type": "code",
   "execution_count": 38,
   "id": "7d232d32-4fac-4879-b30e-337615a0e5fe",
   "metadata": {},
   "outputs": [],
   "source": [
    "#print(date.today()) #prints current date only\n",
    "#print(datetime.now().time()) #prints current time only"
   ]
  },
  {
   "cell_type": "code",
   "execution_count": 39,
   "id": "c68e1641-0536-4ee3-b99e-aefd971f3781",
   "metadata": {},
   "outputs": [],
   "source": [
    "# Remove rows 0 to 7 and reset the index\n",
    "df = df.iloc[8:].reset_index(drop=True)\n",
    "\n",
    "#print(df)"
   ]
  },
  {
   "cell_type": "code",
   "execution_count": 40,
   "id": "c3bc3406-bdfd-4341-a685-418b5a1100b1",
   "metadata": {},
   "outputs": [],
   "source": [
    "#print(pd.DataFrame(df))"
   ]
  },
  {
   "cell_type": "code",
   "execution_count": 41,
   "id": "1a0331fe-c83b-4fb0-bc37-45a6c949e78a",
   "metadata": {},
   "outputs": [],
   "source": [
    "df['Date&Time'] = pd.to_datetime(df['Date']+' '+df['Time'])"
   ]
  },
  {
   "cell_type": "code",
   "execution_count": 42,
   "id": "b9f1aeb5-a4ee-42f7-aae3-2e4c91c83abe",
   "metadata": {},
   "outputs": [],
   "source": [
    "df.drop('Date', axis = 1, inplace=True)"
   ]
  },
  {
   "cell_type": "code",
   "execution_count": 43,
   "id": "baf68201-42ca-4366-9e84-bb32aeba00a2",
   "metadata": {},
   "outputs": [],
   "source": [
    "df.drop('Time', axis = 1, inplace=True)"
   ]
  },
  {
   "cell_type": "code",
   "execution_count": 44,
   "id": "93e8b521-74b6-47db-80e7-711824c7fcf1",
   "metadata": {},
   "outputs": [],
   "source": [
    "#pd.DataFrame(df)"
   ]
  },
  {
   "cell_type": "code",
   "execution_count": 45,
   "id": "95a2d776-df48-43ec-a957-51776681e13f",
   "metadata": {},
   "outputs": [],
   "source": [
    "#df['Date&Time']"
   ]
  },
  {
   "cell_type": "code",
   "execution_count": 46,
   "id": "91d957b9-ba85-46ed-ab1f-7443a6c64699",
   "metadata": {},
   "outputs": [
    {
     "name": "stdin",
     "output_type": "stream",
     "text": [
      "Enter Year:  2025\n",
      "Enter month:  3\n",
      "Enter day:  12\n",
      "Enter hour:  0\n",
      "Enter minute:  24\n"
     ]
    },
    {
     "name": "stdout",
     "output_type": "stream",
     "text": [
      "2025-03-12 00:24:00\n"
     ]
    }
   ],
   "source": [
    "#Assume that this is the input of time of log in \n",
    "year = int(input(\"Enter Year: \"))\n",
    "month = int(input(\"Enter month: \"))\n",
    "day = int(input(\"Enter day: \"))\n",
    "hr = int(input(\"Enter hour: \"))\n",
    "minute = int(input(\"Enter minute: \"))\n",
    "\n",
    "custom_dt = datetime(year, month, day, hr, minute) #datetime(2025, 3, 29, 14, 30, 0)\n",
    "print(custom_dt)  # Output: 2025-03-29 14:30:00"
   ]
  },
  {
   "cell_type": "code",
   "execution_count": 47,
   "id": "4280af66-4e9c-44a4-9c32-62734c8a4323",
   "metadata": {},
   "outputs": [],
   "source": [
    "filtered_df = df[df['Date&Time'] >= custom_dt]"
   ]
  },
  {
   "cell_type": "code",
   "execution_count": 48,
   "id": "ef42e217-15d8-4cce-a73f-56ea1423dcb5",
   "metadata": {},
   "outputs": [],
   "source": [
    "#pd.DataFrame(filtered_df)"
   ]
  },
  {
   "cell_type": "code",
   "execution_count": 49,
   "id": "c7c0054a-3376-49e7-8ed7-d67779344878",
   "metadata": {},
   "outputs": [],
   "source": [
    "filtered_df.to_csv('OutputTemp.csv', index=False)"
   ]
  },
  {
   "cell_type": "code",
   "execution_count": null,
   "id": "06de2a09-fb51-4aeb-bc7e-80552877ab79",
   "metadata": {},
   "outputs": [],
   "source": []
  }
 ],
 "metadata": {
  "kernelspec": {
   "display_name": "Python 3 (ipykernel)",
   "language": "python",
   "name": "python3"
  },
  "language_info": {
   "codemirror_mode": {
    "name": "ipython",
    "version": 3
   },
   "file_extension": ".py",
   "mimetype": "text/x-python",
   "name": "python",
   "nbconvert_exporter": "python",
   "pygments_lexer": "ipython3",
   "version": "3.12.8"
  }
 },
 "nbformat": 4,
 "nbformat_minor": 5
}
