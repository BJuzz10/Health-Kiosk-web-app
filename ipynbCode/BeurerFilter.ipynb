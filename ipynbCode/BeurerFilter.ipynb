{
 "cells": [
  {
   "cell_type": "code",
   "execution_count": 1,
   "id": "5e3201b1-2bbd-496c-b47a-f7b92ec6f1c3",
   "metadata": {},
   "outputs": [],
   "source": [
    "import pandas as pd\n",
    "from datetime import date, time, datetime"
   ]
  },
  {
   "cell_type": "code",
   "execution_count": 2,
   "id": "20c62743-dcda-4832-bb3a-b15bb603b376",
   "metadata": {},
   "outputs": [],
   "source": [
    "df = pd.read_csv('Beurer.csv', header=None) "
   ]
  },
  {
   "cell_type": "code",
   "execution_count": 3,
   "id": "ca103fd4-b7d7-4c88-95a1-60c0fbe798df",
   "metadata": {},
   "outputs": [
    {
     "name": "stdout",
     "output_type": "stream",
     "text": [
      "<class 'pandas.core.frame.DataFrame'>\n",
      "RangeIndex: 16 entries, 0 to 15\n",
      "Data columns (total 1 columns):\n",
      " #   Column  Non-Null Count  Dtype \n",
      "---  ------  --------------  ----- \n",
      " 0   0       16 non-null     object\n",
      "dtypes: object(1)\n",
      "memory usage: 260.0+ bytes\n"
     ]
    }
   ],
   "source": [
    "df.info()"
   ]
  },
  {
   "cell_type": "code",
   "execution_count": 4,
   "id": "0a7ef76a-a8a5-40eb-85e9-24ea4c245402",
   "metadata": {},
   "outputs": [
    {
     "data": {
      "text/html": [
       "<div>\n",
       "<style scoped>\n",
       "    .dataframe tbody tr th:only-of-type {\n",
       "        vertical-align: middle;\n",
       "    }\n",
       "\n",
       "    .dataframe tbody tr th {\n",
       "        vertical-align: top;\n",
       "    }\n",
       "\n",
       "    .dataframe thead th {\n",
       "        text-align: right;\n",
       "    }\n",
       "</style>\n",
       "<table border=\"1\" class=\"dataframe\">\n",
       "  <thead>\n",
       "    <tr style=\"text-align: right;\">\n",
       "      <th></th>\n",
       "      <th>0</th>\n",
       "    </tr>\n",
       "  </thead>\n",
       "  <tbody>\n",
       "    <tr>\n",
       "      <th>10</th>\n",
       "      <td>03/12/2025;12:24 AM;36.6;;</td>\n",
       "    </tr>\n",
       "    <tr>\n",
       "      <th>11</th>\n",
       "      <td>03/12/2025;09:55 AM;37.2;;</td>\n",
       "    </tr>\n",
       "    <tr>\n",
       "      <th>12</th>\n",
       "      <td>03/12/2025;09:56 AM;37.2;;</td>\n",
       "    </tr>\n",
       "    <tr>\n",
       "      <th>13</th>\n",
       "      <td>03/12/2025;09:57 AM;37.2;;</td>\n",
       "    </tr>\n",
       "    <tr>\n",
       "      <th>14</th>\n",
       "      <td>03/15/2025;12:11 PM;37.8;;</td>\n",
       "    </tr>\n",
       "    <tr>\n",
       "      <th>15</th>\n",
       "      <td>04/01/2025;09:30 PM;36.8;;</td>\n",
       "    </tr>\n",
       "  </tbody>\n",
       "</table>\n",
       "</div>"
      ],
      "text/plain": [
       "                             0\n",
       "10  03/12/2025;12:24 AM;36.6;;\n",
       "11  03/12/2025;09:55 AM;37.2;;\n",
       "12  03/12/2025;09:56 AM;37.2;;\n",
       "13  03/12/2025;09:57 AM;37.2;;\n",
       "14  03/15/2025;12:11 PM;37.8;;\n",
       "15  04/01/2025;09:30 PM;36.8;;"
      ]
     },
     "execution_count": 4,
     "metadata": {},
     "output_type": "execute_result"
    }
   ],
   "source": [
    "df.tail(6)"
   ]
  },
  {
   "cell_type": "code",
   "execution_count": 5,
   "id": "71fff94d-cee8-48b0-bff0-67206342ff09",
   "metadata": {},
   "outputs": [],
   "source": [
    "# Split the 'User details' column by semicolons\n",
    "split_data = df[0].str.split(';', expand=True)"
   ]
  },
  {
   "cell_type": "code",
   "execution_count": 6,
   "id": "fd009dc6-3041-4b0b-a05f-16995004939c",
   "metadata": {},
   "outputs": [
    {
     "name": "stdout",
     "output_type": "stream",
     "text": [
      "             0         1     2 3 4\n",
      "11  03/12/2025  09:55 AM  37.2    \n",
      "12  03/12/2025  09:56 AM  37.2    \n",
      "13  03/12/2025  09:57 AM  37.2    \n",
      "14  03/15/2025  12:11 PM  37.8    \n",
      "15  04/01/2025  09:30 PM  36.8    \n"
     ]
    }
   ],
   "source": [
    "# Check how many columns are created\n",
    "print(split_data.tail())"
   ]
  },
  {
   "cell_type": "code",
   "execution_count": 7,
   "id": "e5665cf7-2727-4dc6-9d5f-c65106d8ce95",
   "metadata": {},
   "outputs": [],
   "source": [
    "# If there are more columns than expected, you can handle them, for example:\n",
    "# Assuming we expect 3 columns (Date, Time, Temperature), but if there are more, we only take the first 3 columns.\n",
    "split_data = split_data.iloc[:, :3]\n",
    "\n",
    "# Assign the columns to the DataFrame\n",
    "split_data.columns = ['Date', 'Time', 'Temperature']\n",
    "\n",
    "# Drop the original combined column\n",
    "df.drop(columns=[0], inplace=True)"
   ]
  },
  {
   "cell_type": "code",
   "execution_count": 8,
   "id": "317293b3-afb6-4d22-be98-2ba4ee0b82cd",
   "metadata": {},
   "outputs": [],
   "source": [
    "# Concatenate the split data with the original DataFrame (if you need other columns)\n",
    "df = pd.concat([df, split_data], axis=1)\n",
    "\n",
    "# Save the new DataFrame to a new CSV file\n",
    "#df.to_csv('split_data.csv', index=False)"
   ]
  },
  {
   "cell_type": "code",
   "execution_count": 9,
   "id": "f4b64323-e2e5-491c-92d1-97cbb6e21a2f",
   "metadata": {},
   "outputs": [
    {
     "data": {
      "text/html": [
       "<div>\n",
       "<style scoped>\n",
       "    .dataframe tbody tr th:only-of-type {\n",
       "        vertical-align: middle;\n",
       "    }\n",
       "\n",
       "    .dataframe tbody tr th {\n",
       "        vertical-align: top;\n",
       "    }\n",
       "\n",
       "    .dataframe thead th {\n",
       "        text-align: right;\n",
       "    }\n",
       "</style>\n",
       "<table border=\"1\" class=\"dataframe\">\n",
       "  <thead>\n",
       "    <tr style=\"text-align: right;\">\n",
       "      <th></th>\n",
       "      <th>Date</th>\n",
       "      <th>Time</th>\n",
       "      <th>Temperature</th>\n",
       "    </tr>\n",
       "  </thead>\n",
       "  <tbody>\n",
       "    <tr>\n",
       "      <th>0</th>\n",
       "      <td>User details</td>\n",
       "      <td>None</td>\n",
       "      <td>None</td>\n",
       "    </tr>\n",
       "    <tr>\n",
       "      <th>1</th>\n",
       "      <td>Gender Female</td>\n",
       "      <td>None</td>\n",
       "      <td>None</td>\n",
       "    </tr>\n",
       "    <tr>\n",
       "      <th>2</th>\n",
       "      <td>First name Jas10</td>\n",
       "      <td>None</td>\n",
       "      <td>None</td>\n",
       "    </tr>\n",
       "    <tr>\n",
       "      <th>3</th>\n",
       "      <td>Surname Jobs</td>\n",
       "      <td>None</td>\n",
       "      <td>None</td>\n",
       "    </tr>\n",
       "    <tr>\n",
       "      <th>4</th>\n",
       "      <td>Date of birth 05/06/2002</td>\n",
       "      <td>None</td>\n",
       "      <td>None</td>\n",
       "    </tr>\n",
       "    <tr>\n",
       "      <th>5</th>\n",
       "      <td>Height 5' 3\"</td>\n",
       "      <td>None</td>\n",
       "      <td>None</td>\n",
       "    </tr>\n",
       "    <tr>\n",
       "      <th>6</th>\n",
       "      <td>Temperature</td>\n",
       "      <td>None</td>\n",
       "      <td>None</td>\n",
       "    </tr>\n",
       "    <tr>\n",
       "      <th>7</th>\n",
       "      <td>Date</td>\n",
       "      <td>Time</td>\n",
       "      <td>°C</td>\n",
       "    </tr>\n",
       "    <tr>\n",
       "      <th>8</th>\n",
       "      <td>03/11/2025</td>\n",
       "      <td>11:43 AM</td>\n",
       "      <td>37.2</td>\n",
       "    </tr>\n",
       "    <tr>\n",
       "      <th>9</th>\n",
       "      <td>03/12/2025</td>\n",
       "      <td>12:21 AM</td>\n",
       "      <td>35.6</td>\n",
       "    </tr>\n",
       "    <tr>\n",
       "      <th>10</th>\n",
       "      <td>03/12/2025</td>\n",
       "      <td>12:24 AM</td>\n",
       "      <td>36.6</td>\n",
       "    </tr>\n",
       "    <tr>\n",
       "      <th>11</th>\n",
       "      <td>03/12/2025</td>\n",
       "      <td>09:55 AM</td>\n",
       "      <td>37.2</td>\n",
       "    </tr>\n",
       "    <tr>\n",
       "      <th>12</th>\n",
       "      <td>03/12/2025</td>\n",
       "      <td>09:56 AM</td>\n",
       "      <td>37.2</td>\n",
       "    </tr>\n",
       "    <tr>\n",
       "      <th>13</th>\n",
       "      <td>03/12/2025</td>\n",
       "      <td>09:57 AM</td>\n",
       "      <td>37.2</td>\n",
       "    </tr>\n",
       "    <tr>\n",
       "      <th>14</th>\n",
       "      <td>03/15/2025</td>\n",
       "      <td>12:11 PM</td>\n",
       "      <td>37.8</td>\n",
       "    </tr>\n",
       "    <tr>\n",
       "      <th>15</th>\n",
       "      <td>04/01/2025</td>\n",
       "      <td>09:30 PM</td>\n",
       "      <td>36.8</td>\n",
       "    </tr>\n",
       "  </tbody>\n",
       "</table>\n",
       "</div>"
      ],
      "text/plain": [
       "                        Date      Time Temperature\n",
       "0               User details      None        None\n",
       "1              Gender Female      None        None\n",
       "2           First name Jas10      None        None\n",
       "3               Surname Jobs      None        None\n",
       "4   Date of birth 05/06/2002      None        None\n",
       "5               Height 5' 3\"      None        None\n",
       "6                Temperature      None        None\n",
       "7                       Date      Time          °C\n",
       "8                 03/11/2025  11:43 AM        37.2\n",
       "9                 03/12/2025  12:21 AM        35.6\n",
       "10                03/12/2025  12:24 AM        36.6\n",
       "11                03/12/2025  09:55 AM        37.2\n",
       "12                03/12/2025  09:56 AM        37.2\n",
       "13                03/12/2025  09:57 AM        37.2\n",
       "14                03/15/2025  12:11 PM        37.8\n",
       "15                04/01/2025  09:30 PM        36.8"
      ]
     },
     "execution_count": 9,
     "metadata": {},
     "output_type": "execute_result"
    }
   ],
   "source": [
    "# Check the result\n",
    "pd.DataFrame(df)"
   ]
  },
  {
   "cell_type": "code",
   "execution_count": 10,
   "id": "851c21e1-e339-4340-9afa-07a04648f376",
   "metadata": {},
   "outputs": [
    {
     "name": "stdout",
     "output_type": "stream",
     "text": [
      "<class 'pandas.core.frame.DataFrame'>\n",
      "RangeIndex: 16 entries, 0 to 15\n",
      "Data columns (total 3 columns):\n",
      " #   Column       Non-Null Count  Dtype \n",
      "---  ------       --------------  ----- \n",
      " 0   Date         16 non-null     object\n",
      " 1   Time         9 non-null      object\n",
      " 2   Temperature  9 non-null      object\n",
      "dtypes: object(3)\n",
      "memory usage: 516.0+ bytes\n"
     ]
    }
   ],
   "source": [
    "df.info() #explains the data"
   ]
  },
  {
   "cell_type": "code",
   "execution_count": 11,
   "id": "bd730da8-1237-41f6-8b1b-fb34ed6d5cf6",
   "metadata": {},
   "outputs": [
    {
     "name": "stdout",
     "output_type": "stream",
     "text": [
      "Index(['Date', 'Time', 'Temperature'], dtype='object')\n"
     ]
    }
   ],
   "source": [
    "print(df.columns)"
   ]
  },
  {
   "cell_type": "code",
   "execution_count": 12,
   "id": "c68e1641-0536-4ee3-b99e-aefd971f3781",
   "metadata": {},
   "outputs": [],
   "source": [
    "# Remove rows 0 to 7 and reset the index\n",
    "df = df.iloc[8:].reset_index(drop=True)\n",
    "\n",
    "#print(df)"
   ]
  },
  {
   "cell_type": "code",
   "execution_count": 13,
   "id": "c3bc3406-bdfd-4341-a685-418b5a1100b1",
   "metadata": {},
   "outputs": [],
   "source": [
    "#print(pd.DataFrame(df))"
   ]
  },
  {
   "cell_type": "code",
   "execution_count": 14,
   "id": "1a0331fe-c83b-4fb0-bc37-45a6c949e78a",
   "metadata": {},
   "outputs": [],
   "source": [
    "df['Date&Time'] = pd.to_datetime(df['Date']+' '+df['Time'])"
   ]
  },
  {
   "cell_type": "code",
   "execution_count": 15,
   "id": "b9f1aeb5-a4ee-42f7-aae3-2e4c91c83abe",
   "metadata": {},
   "outputs": [],
   "source": [
    "df.drop('Date', axis = 1, inplace=True)"
   ]
  },
  {
   "cell_type": "code",
   "execution_count": 16,
   "id": "baf68201-42ca-4366-9e84-bb32aeba00a2",
   "metadata": {},
   "outputs": [],
   "source": [
    "df.drop('Time', axis = 1, inplace=True)"
   ]
  },
  {
   "cell_type": "code",
   "execution_count": 17,
   "id": "93e8b521-74b6-47db-80e7-711824c7fcf1",
   "metadata": {},
   "outputs": [
    {
     "data": {
      "text/html": [
       "<div>\n",
       "<style scoped>\n",
       "    .dataframe tbody tr th:only-of-type {\n",
       "        vertical-align: middle;\n",
       "    }\n",
       "\n",
       "    .dataframe tbody tr th {\n",
       "        vertical-align: top;\n",
       "    }\n",
       "\n",
       "    .dataframe thead th {\n",
       "        text-align: right;\n",
       "    }\n",
       "</style>\n",
       "<table border=\"1\" class=\"dataframe\">\n",
       "  <thead>\n",
       "    <tr style=\"text-align: right;\">\n",
       "      <th></th>\n",
       "      <th>Temperature</th>\n",
       "      <th>Date&amp;Time</th>\n",
       "    </tr>\n",
       "  </thead>\n",
       "  <tbody>\n",
       "    <tr>\n",
       "      <th>0</th>\n",
       "      <td>37.2</td>\n",
       "      <td>2025-03-11 11:43:00</td>\n",
       "    </tr>\n",
       "    <tr>\n",
       "      <th>1</th>\n",
       "      <td>35.6</td>\n",
       "      <td>2025-03-12 00:21:00</td>\n",
       "    </tr>\n",
       "    <tr>\n",
       "      <th>2</th>\n",
       "      <td>36.6</td>\n",
       "      <td>2025-03-12 00:24:00</td>\n",
       "    </tr>\n",
       "    <tr>\n",
       "      <th>3</th>\n",
       "      <td>37.2</td>\n",
       "      <td>2025-03-12 09:55:00</td>\n",
       "    </tr>\n",
       "    <tr>\n",
       "      <th>4</th>\n",
       "      <td>37.2</td>\n",
       "      <td>2025-03-12 09:56:00</td>\n",
       "    </tr>\n",
       "    <tr>\n",
       "      <th>5</th>\n",
       "      <td>37.2</td>\n",
       "      <td>2025-03-12 09:57:00</td>\n",
       "    </tr>\n",
       "    <tr>\n",
       "      <th>6</th>\n",
       "      <td>37.8</td>\n",
       "      <td>2025-03-15 12:11:00</td>\n",
       "    </tr>\n",
       "    <tr>\n",
       "      <th>7</th>\n",
       "      <td>36.8</td>\n",
       "      <td>2025-04-01 21:30:00</td>\n",
       "    </tr>\n",
       "  </tbody>\n",
       "</table>\n",
       "</div>"
      ],
      "text/plain": [
       "  Temperature           Date&Time\n",
       "0        37.2 2025-03-11 11:43:00\n",
       "1        35.6 2025-03-12 00:21:00\n",
       "2        36.6 2025-03-12 00:24:00\n",
       "3        37.2 2025-03-12 09:55:00\n",
       "4        37.2 2025-03-12 09:56:00\n",
       "5        37.2 2025-03-12 09:57:00\n",
       "6        37.8 2025-03-15 12:11:00\n",
       "7        36.8 2025-04-01 21:30:00"
      ]
     },
     "execution_count": 17,
     "metadata": {},
     "output_type": "execute_result"
    }
   ],
   "source": [
    "pd.DataFrame(df)"
   ]
  },
  {
   "cell_type": "code",
   "execution_count": 18,
   "id": "95a2d776-df48-43ec-a957-51776681e13f",
   "metadata": {},
   "outputs": [
    {
     "data": {
      "text/plain": [
       "0   2025-03-11 11:43:00\n",
       "1   2025-03-12 00:21:00\n",
       "2   2025-03-12 00:24:00\n",
       "3   2025-03-12 09:55:00\n",
       "4   2025-03-12 09:56:00\n",
       "5   2025-03-12 09:57:00\n",
       "6   2025-03-15 12:11:00\n",
       "7   2025-04-01 21:30:00\n",
       "Name: Date&Time, dtype: datetime64[ns]"
      ]
     },
     "execution_count": 18,
     "metadata": {},
     "output_type": "execute_result"
    }
   ],
   "source": [
    "df['Date&Time']"
   ]
  },
  {
   "cell_type": "code",
   "execution_count": 19,
   "id": "91d957b9-ba85-46ed-ab1f-7443a6c64699",
   "metadata": {},
   "outputs": [
    {
     "name": "stdin",
     "output_type": "stream",
     "text": [
      "Enter Year:  2025\n",
      "Enter month:  4\n",
      "Enter day:  1\n",
      "Enter hour:  21\n",
      "Enter minute:  30\n"
     ]
    },
    {
     "name": "stdout",
     "output_type": "stream",
     "text": [
      "2025-04-01 21:30:00\n"
     ]
    }
   ],
   "source": [
    "#Assume that this is the input of time of log in \n",
    "year = int(input(\"Enter Year: \"))\n",
    "month = int(input(\"Enter month: \"))\n",
    "day = int(input(\"Enter day: \"))\n",
    "hr = int(input(\"Enter hour: \"))\n",
    "minute = int(input(\"Enter minute: \"))\n",
    "\n",
    "custom_dt = datetime(year, month, day, hr, minute) #datetime(2025, 3, 29, 14, 30, 0)\n",
    "print(custom_dt)  # Output: 2025-03-29 14:30:00"
   ]
  },
  {
   "cell_type": "code",
   "execution_count": 20,
   "id": "4280af66-4e9c-44a4-9c32-62734c8a4323",
   "metadata": {},
   "outputs": [],
   "source": [
    "filtered_df = df[df['Date&Time'] >= custom_dt]"
   ]
  },
  {
   "cell_type": "code",
   "execution_count": 21,
   "id": "ef42e217-15d8-4cce-a73f-56ea1423dcb5",
   "metadata": {},
   "outputs": [
    {
     "data": {
      "text/html": [
       "<div>\n",
       "<style scoped>\n",
       "    .dataframe tbody tr th:only-of-type {\n",
       "        vertical-align: middle;\n",
       "    }\n",
       "\n",
       "    .dataframe tbody tr th {\n",
       "        vertical-align: top;\n",
       "    }\n",
       "\n",
       "    .dataframe thead th {\n",
       "        text-align: right;\n",
       "    }\n",
       "</style>\n",
       "<table border=\"1\" class=\"dataframe\">\n",
       "  <thead>\n",
       "    <tr style=\"text-align: right;\">\n",
       "      <th></th>\n",
       "      <th>Temperature</th>\n",
       "      <th>Date&amp;Time</th>\n",
       "    </tr>\n",
       "  </thead>\n",
       "  <tbody>\n",
       "    <tr>\n",
       "      <th>7</th>\n",
       "      <td>36.8</td>\n",
       "      <td>2025-04-01 21:30:00</td>\n",
       "    </tr>\n",
       "  </tbody>\n",
       "</table>\n",
       "</div>"
      ],
      "text/plain": [
       "  Temperature           Date&Time\n",
       "7        36.8 2025-04-01 21:30:00"
      ]
     },
     "execution_count": 21,
     "metadata": {},
     "output_type": "execute_result"
    }
   ],
   "source": [
    "pd.DataFrame(filtered_df)"
   ]
  },
  {
   "cell_type": "code",
   "execution_count": 22,
   "id": "c7c0054a-3376-49e7-8ed7-d67779344878",
   "metadata": {},
   "outputs": [],
   "source": [
    "filtered_df.to_csv('OutputTemp.csv', index=False)"
   ]
  },
  {
   "cell_type": "code",
   "execution_count": null,
   "id": "06de2a09-fb51-4aeb-bc7e-80552877ab79",
   "metadata": {},
   "outputs": [],
   "source": []
  }
 ],
 "metadata": {
  "kernelspec": {
   "display_name": "Python 3 (ipykernel)",
   "language": "python",
   "name": "python3"
  },
  "language_info": {
   "codemirror_mode": {
    "name": "ipython",
    "version": 3
   },
   "file_extension": ".py",
   "mimetype": "text/x-python",
   "name": "python",
   "nbconvert_exporter": "python",
   "pygments_lexer": "ipython3",
   "version": "3.12.8"
  }
 },
 "nbformat": 4,
 "nbformat_minor": 5
}
